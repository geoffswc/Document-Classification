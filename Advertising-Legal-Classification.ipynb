{
 "cells": [
  {
   "cell_type": "code",
   "execution_count": null,
   "id": "dbc1347b",
   "metadata": {},
   "outputs": [],
   "source": [
    "import pandas as pd\n",
    "from pandasql import sqldf\n",
    "from sklearn.model_selection import train_test_split\n",
    "from sklearn.pipeline import Pipeline\n",
    "from sklearn.feature_extraction.text import TfidfTransformer\n",
    "from sklearn.feature_extraction.text import CountVectorizer\n",
    "from sklearn.ensemble import RandomForestClassifier\n",
    "from sklearn.metrics import precision_recall_fscore_support\n",
    "from sklearn.metrics import precision_recall_curve\n",
    "from sklearn.model_selection import cross_val_score\n",
    "import nltk\n",
    "from nltk.corpus import stopwords\n",
    "from nltk.stem.porter import PorterStemmer\n",
    "from nltk.stem import WordNetLemmatizer"
   ]
  },
  {
   "cell_type": "code",
   "execution_count": null,
   "id": "feef5430",
   "metadata": {},
   "outputs": [],
   "source": [
    "pysqldf = lambda q: sqldf(q, globals())"
   ]
  },
  {
   "cell_type": "code",
   "execution_count": null,
   "id": "bbb8f55e",
   "metadata": {},
   "outputs": [],
   "source": [
    "#nltk.download('stopwords')\n",
    "#nltk.download('wordnet')"
   ]
  },
  {
   "cell_type": "code",
   "execution_count": null,
   "id": "000f07ad",
   "metadata": {},
   "outputs": [],
   "source": [
    "stop = stopwords.words('english')\n",
    "lemmatizer = WordNetLemmatizer()"
   ]
  },
  {
   "cell_type": "code",
   "execution_count": null,
   "id": "b94d4410",
   "metadata": {},
   "outputs": [],
   "source": [
    "df = pd.read_csv(\"https://raw.githubusercontent.com/geoffswc/Internet-Archives-Transcripts/main/data/final_dataset.csv\")"
   ]
  },
  {
   "cell_type": "code",
   "execution_count": null,
   "id": "d23236ac",
   "metadata": {},
   "outputs": [],
   "source": [
    "#df"
   ]
  },
  {
   "cell_type": "code",
   "execution_count": null,
   "id": "1076890e",
   "metadata": {},
   "outputs": [],
   "source": [
    "pysqldf(\"\"\"\n",
    "SELECT category, count(*) as category_count\n",
    "FROM df\n",
    "GROUP BY category\n",
    "ORDER BY category_count DESC\n",
    "\"\"\")"
   ]
  },
  {
   "cell_type": "code",
   "execution_count": null,
   "id": "01da8fb7",
   "metadata": {},
   "outputs": [],
   "source": [
    "df_train, df_test = train_test_split(df, test_size=0.5)"
   ]
  },
  {
   "cell_type": "code",
   "execution_count": null,
   "id": "4f873bc5",
   "metadata": {},
   "outputs": [],
   "source": [
    "text_clf = Pipeline([\n",
    "    ('vect', CountVectorizer(stop_words=stop)),\n",
    "    ('clf', RandomForestClassifier())\n",
    "    ])"
   ]
  },
  {
   "cell_type": "code",
   "execution_count": null,
   "id": "b40726b6",
   "metadata": {},
   "outputs": [],
   "source": [
    "X_train = text_clf['vect'].fit_transform(df_train['computer_transcript'])"
   ]
  },
  {
   "cell_type": "code",
   "execution_count": null,
   "id": "24a2590c",
   "metadata": {},
   "outputs": [],
   "source": [
    "text_clf['vect'].get_feature_names()"
   ]
  },
  {
   "cell_type": "code",
   "execution_count": null,
   "id": "37e5174e",
   "metadata": {},
   "outputs": [],
   "source": [
    "X_train.todense()"
   ]
  },
  {
   "cell_type": "code",
   "execution_count": null,
   "id": "b3ede28b",
   "metadata": {},
   "outputs": [],
   "source": [
    "df_vector = pd.DataFrame(X_train.todense())\n",
    "df_vector.columns = text_clf['vect'].get_feature_names()"
   ]
  },
  {
   "cell_type": "code",
   "execution_count": null,
   "id": "e206b04a",
   "metadata": {},
   "outputs": [],
   "source": [
    "pd.set_option('display.max_rows', None)\n",
    "df_vector.T"
   ]
  },
  {
   "cell_type": "code",
   "execution_count": null,
   "id": "6b660a71",
   "metadata": {},
   "outputs": [],
   "source": [
    "df_train.iloc[3]['computer_transcript']"
   ]
  },
  {
   "cell_type": "code",
   "execution_count": null,
   "id": "cddf5e7e",
   "metadata": {},
   "outputs": [],
   "source": [
    "X_train = text_clf.fit(df_train['computer_transcript'], df_train['category'])"
   ]
  },
  {
   "cell_type": "code",
   "execution_count": null,
   "id": "cac91bc6",
   "metadata": {},
   "outputs": [],
   "source": [
    "feature_df = pd.DataFrame({\"feature\": text_clf['vect'].get_feature_names(), \n",
    "                           'importance': text_clf['clf'].feature_importances_})"
   ]
  },
  {
   "cell_type": "code",
   "execution_count": null,
   "id": "b4139174",
   "metadata": {},
   "outputs": [],
   "source": [
    "pysqldf(\"\"\"\n",
    "SELECT \n",
    "    *\n",
    "FROM\n",
    "    feature_df\n",
    "ORDER BY\n",
    "    importance DESC\n",
    "\"\"\")"
   ]
  },
  {
   "cell_type": "code",
   "execution_count": null,
   "id": "a34be1ae",
   "metadata": {},
   "outputs": [],
   "source": [
    "feature_df.sort_values(by=['importance'], ascending=False)"
   ]
  },
  {
   "cell_type": "code",
   "execution_count": null,
   "id": "878d67fc",
   "metadata": {},
   "outputs": [],
   "source": [
    "cross_val = cross_val_score(text_clf, df_test['computer_transcript'], df_test['category'], cv=4)"
   ]
  },
  {
   "cell_type": "code",
   "execution_count": null,
   "id": "26d8b14c",
   "metadata": {},
   "outputs": [],
   "source": [
    "cross_val"
   ]
  },
  {
   "cell_type": "code",
   "execution_count": null,
   "id": "143cf221",
   "metadata": {},
   "outputs": [],
   "source": [
    "y_proba = text_clf.predict_proba(df_test['computer_transcript'])\n",
    "y_pred = text_clf.predict(df_test['computer_transcript'])"
   ]
  },
  {
   "cell_type": "code",
   "execution_count": null,
   "id": "c96d9202",
   "metadata": {},
   "outputs": [],
   "source": [
    "y_proba"
   ]
  },
  {
   "cell_type": "code",
   "execution_count": null,
   "id": "cb4549e9",
   "metadata": {},
   "outputs": [],
   "source": [
    "text_clf.classes_"
   ]
  },
  {
   "cell_type": "code",
   "execution_count": null,
   "id": "61fb8860",
   "metadata": {},
   "outputs": [],
   "source": [
    "prob_advertising = [p[0] for p in y_proba]\n",
    "prob_legal = [p[1] for p in y_proba]"
   ]
  },
  {
   "cell_type": "code",
   "execution_count": null,
   "id": "ecf3d6e5",
   "metadata": {},
   "outputs": [],
   "source": [
    "df_test['prob_advertising'] = prob_advertising\n",
    "df_test['prob_legal'] = prob_legal\n",
    "df_test['y-pred'] = y_pred"
   ]
  },
  {
   "cell_type": "code",
   "execution_count": null,
   "id": "0060dd2c",
   "metadata": {},
   "outputs": [],
   "source": [
    "y_adj = []\n",
    "\n",
    "for p in prob_advertising:\n",
    "    if p >= .6:\n",
    "        y_adj.append(\"Advertising\")\n",
    "    else:\n",
    "        y_adj.append(\"Legal/Court\")\n",
    "    \n",
    "df_test['y_adj'] = y_adj"
   ]
  },
  {
   "cell_type": "code",
   "execution_count": null,
   "id": "bffc79de",
   "metadata": {},
   "outputs": [],
   "source": [
    "df_test[['category', 'y-pred', 'y_adj', 'prob_advertising', 'prob_legal']]"
   ]
  },
  {
   "cell_type": "code",
   "execution_count": null,
   "id": "a67264a9",
   "metadata": {},
   "outputs": [],
   "source": [
    "y_pred = text_clf.predict(df_test['computer_transcript'])"
   ]
  },
  {
   "cell_type": "code",
   "execution_count": null,
   "id": "7860b1f8",
   "metadata": {},
   "outputs": [],
   "source": [
    "# everything below this line will vary based on the run"
   ]
  },
  {
   "cell_type": "code",
   "execution_count": null,
   "id": "b8e84b92",
   "metadata": {},
   "outputs": [],
   "source": [
    "precision, recall, fscore, train_support = precision_recall_fscore_support(df_test['category'], y_pred, pos_label='Advertising', average='binary')\n",
    "print('Precision: {} / Recall: {} / Accuracy: {} / fscore: {}'.format(\n",
    "    round(precision, 3), round(recall, 3), (round((y_pred==df_test['category']).sum()/len(y_adj), 3)), round(fscore, 3)))"
   ]
  },
  {
   "cell_type": "code",
   "execution_count": null,
   "id": "851b7372",
   "metadata": {},
   "outputs": [],
   "source": [
    "print('precision', 8/9)\n",
    "print('accuracy', 8/13)\n",
    "print('recall', 13/13)"
   ]
  },
  {
   "cell_type": "code",
   "execution_count": null,
   "id": "ba8b89f8",
   "metadata": {},
   "outputs": [],
   "source": [
    "print('f-score', 2 * ((precision * recall) / (precision + recall)))"
   ]
  },
  {
   "cell_type": "code",
   "execution_count": null,
   "id": "2b408722",
   "metadata": {},
   "outputs": [],
   "source": []
  },
  {
   "cell_type": "code",
   "execution_count": null,
   "id": "42f887d6",
   "metadata": {},
   "outputs": [],
   "source": []
  }
 ],
 "metadata": {
  "kernelspec": {
   "display_name": "Python 3 (ipykernel)",
   "language": "python",
   "name": "python3"
  },
  "language_info": {
   "codemirror_mode": {
    "name": "ipython",
    "version": 3
   },
   "file_extension": ".py",
   "mimetype": "text/x-python",
   "name": "python",
   "nbconvert_exporter": "python",
   "pygments_lexer": "ipython3",
   "version": "3.9.7"
  }
 },
 "nbformat": 4,
 "nbformat_minor": 5
}
