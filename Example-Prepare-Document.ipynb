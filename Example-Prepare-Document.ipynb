{
 "cells": [
  {
   "cell_type": "code",
   "execution_count": 1,
   "metadata": {},
   "outputs": [],
   "source": [
    "# from https://en.wikipedia.org/wiki/Inflation"
   ]
  },
  {
   "cell_type": "code",
   "execution_count": 2,
   "metadata": {},
   "outputs": [],
   "source": [
    "document_text = \"\"\"\n",
    "\n",
    "In economics, inflation (or less frequently, price inflation) is a general rise in the price level of an economy\n",
    "over a period of time.[1][2][3][4] When the general price level rises, each unit of currency buys fewer goods and\n",
    "services; consequently, inflation reflects a reduction in the purchasing power per unit of money – a loss of real\n",
    "value in the medium of exchange and unit of account within the economy.[5][6] The opposite of inflation is \n",
    "deflation, a sustained decrease in the general price level of goods and services. The common measure of inflation\n",
    "is the inflation rate, the annualised percentage change in a general price index, usually the consumer price \n",
    "index, over time.[7]\n",
    "\n",
    "Economists believe that very high rates of inflation and hyperinflation are harmful, and are caused by excessive\n",
    "growth of the money supply.[8] Views on which factors determine low to moderate rates of inflation are more \n",
    "varied. Low or moderate inflation may be attributed to fluctuations in real demand for goods and services, or \n",
    "changes in available supplies such as during scarcities.[9] However, the consensus view is that a long sustained \n",
    "period of inflation is caused by money supply growing faster than the rate of economic growth.[10][11]\n",
    "\n",
    "Inflation affects economies in various positive and negative ways. The negative effects of inflation include an \n",
    "increase in the opportunity cost of holding money, uncertainty over future inflation which may discourage \n",
    "investment and savings, and if inflation were rapid enough, shortages of goods as consumers begin hoarding out \n",
    "of concern that prices will increase in the future. Positive effects include reducing unemployment due to nominal \n",
    "wage rigidity,[12] allowing the central bank greater freedom in carrying out monetary policy, encouraging loans \n",
    "and investment instead of money hoarding, and avoiding the inefficiencies associated with deflation.\n",
    "\n",
    "Today, most economists favour a low and steady rate of inflation.[13] Low (as opposed to zero or negative) \n",
    "inflation reduces the severity of economic recessions by enabling the labor market to adjust more quickly in a \n",
    "downturn, and reduces the risk that a liquidity trap prevents monetary policy from stabilising the economy.[14] \n",
    "The task of keeping the rate of inflation low and stable is usually given to monetary authorities. Generally, \n",
    "these monetary authorities are the central banks that control monetary policy through the setting of interest \n",
    "rates, through open market operations, and through the setting of banking reserve requirements.[15]\n",
    "\"\"\""
   ]
  },
  {
   "cell_type": "code",
   "execution_count": 3,
   "metadata": {},
   "outputs": [],
   "source": [
    "from sklearn.feature_extraction.text import CountVectorizer"
   ]
  },
  {
   "cell_type": "code",
   "execution_count": 4,
   "metadata": {},
   "outputs": [],
   "source": [
    "vectorizer = CountVectorizer()"
   ]
  },
  {
   "cell_type": "code",
   "execution_count": 5,
   "metadata": {},
   "outputs": [],
   "source": [
    "X_train = vectorizer.fit_transform([document_text])"
   ]
  },
  {
   "cell_type": "code",
   "execution_count": 6,
   "metadata": {},
   "outputs": [
    {
     "data": {
      "text/plain": [
       "<1x194 sparse matrix of type '<class 'numpy.longlong'>'\n",
       "\twith 194 stored elements in Compressed Sparse Row format>"
      ]
     },
     "execution_count": 6,
     "metadata": {},
     "output_type": "execute_result"
    }
   ],
   "source": [
    "X_train"
   ]
  },
  {
   "cell_type": "code",
   "execution_count": 7,
   "metadata": {},
   "outputs": [
    {
     "data": {
      "text/plain": [
       "['10',\n",
       " '11',\n",
       " '12',\n",
       " '13',\n",
       " '14',\n",
       " '15',\n",
       " 'account',\n",
       " 'adjust',\n",
       " 'affects',\n",
       " 'allowing',\n",
       " 'an',\n",
       " 'and',\n",
       " 'annualised',\n",
       " 'are',\n",
       " 'as',\n",
       " 'associated',\n",
       " 'attributed',\n",
       " 'authorities',\n",
       " 'available',\n",
       " 'avoiding',\n",
       " 'bank',\n",
       " 'banking',\n",
       " 'banks',\n",
       " 'be',\n",
       " 'begin',\n",
       " 'believe',\n",
       " 'buys',\n",
       " 'by',\n",
       " 'carrying',\n",
       " 'caused',\n",
       " 'central',\n",
       " 'change',\n",
       " 'changes',\n",
       " 'common',\n",
       " 'concern',\n",
       " 'consensus',\n",
       " 'consequently',\n",
       " 'consumer',\n",
       " 'consumers',\n",
       " 'control',\n",
       " 'cost',\n",
       " 'currency',\n",
       " 'decrease',\n",
       " 'deflation',\n",
       " 'demand',\n",
       " 'determine',\n",
       " 'discourage',\n",
       " 'downturn',\n",
       " 'due',\n",
       " 'during',\n",
       " 'each',\n",
       " 'economic',\n",
       " 'economics',\n",
       " 'economies',\n",
       " 'economists',\n",
       " 'economy',\n",
       " 'effects',\n",
       " 'enabling',\n",
       " 'encouraging',\n",
       " 'enough',\n",
       " 'excessive',\n",
       " 'exchange',\n",
       " 'factors',\n",
       " 'faster',\n",
       " 'favour',\n",
       " 'fewer',\n",
       " 'fluctuations',\n",
       " 'for',\n",
       " 'freedom',\n",
       " 'frequently',\n",
       " 'from',\n",
       " 'future',\n",
       " 'general',\n",
       " 'generally',\n",
       " 'given',\n",
       " 'goods',\n",
       " 'greater',\n",
       " 'growing',\n",
       " 'growth',\n",
       " 'harmful',\n",
       " 'high',\n",
       " 'hoarding',\n",
       " 'holding',\n",
       " 'however',\n",
       " 'hyperinflation',\n",
       " 'if',\n",
       " 'in',\n",
       " 'include',\n",
       " 'increase',\n",
       " 'index',\n",
       " 'inefficiencies',\n",
       " 'inflation',\n",
       " 'instead',\n",
       " 'interest',\n",
       " 'investment',\n",
       " 'is',\n",
       " 'keeping',\n",
       " 'labor',\n",
       " 'less',\n",
       " 'level',\n",
       " 'liquidity',\n",
       " 'loans',\n",
       " 'long',\n",
       " 'loss',\n",
       " 'low',\n",
       " 'market',\n",
       " 'may',\n",
       " 'measure',\n",
       " 'medium',\n",
       " 'moderate',\n",
       " 'monetary',\n",
       " 'money',\n",
       " 'more',\n",
       " 'most',\n",
       " 'negative',\n",
       " 'nominal',\n",
       " 'of',\n",
       " 'on',\n",
       " 'open',\n",
       " 'operations',\n",
       " 'opportunity',\n",
       " 'opposed',\n",
       " 'opposite',\n",
       " 'or',\n",
       " 'out',\n",
       " 'over',\n",
       " 'per',\n",
       " 'percentage',\n",
       " 'period',\n",
       " 'policy',\n",
       " 'positive',\n",
       " 'power',\n",
       " 'prevents',\n",
       " 'price',\n",
       " 'prices',\n",
       " 'purchasing',\n",
       " 'quickly',\n",
       " 'rapid',\n",
       " 'rate',\n",
       " 'rates',\n",
       " 'real',\n",
       " 'recessions',\n",
       " 'reduces',\n",
       " 'reducing',\n",
       " 'reduction',\n",
       " 'reflects',\n",
       " 'requirements',\n",
       " 'reserve',\n",
       " 'rigidity',\n",
       " 'rise',\n",
       " 'rises',\n",
       " 'risk',\n",
       " 'savings',\n",
       " 'scarcities',\n",
       " 'services',\n",
       " 'setting',\n",
       " 'severity',\n",
       " 'shortages',\n",
       " 'stabilising',\n",
       " 'stable',\n",
       " 'steady',\n",
       " 'such',\n",
       " 'supplies',\n",
       " 'supply',\n",
       " 'sustained',\n",
       " 'task',\n",
       " 'than',\n",
       " 'that',\n",
       " 'the',\n",
       " 'these',\n",
       " 'through',\n",
       " 'time',\n",
       " 'to',\n",
       " 'today',\n",
       " 'trap',\n",
       " 'uncertainty',\n",
       " 'unemployment',\n",
       " 'unit',\n",
       " 'usually',\n",
       " 'value',\n",
       " 'varied',\n",
       " 'various',\n",
       " 'very',\n",
       " 'view',\n",
       " 'views',\n",
       " 'wage',\n",
       " 'ways',\n",
       " 'were',\n",
       " 'when',\n",
       " 'which',\n",
       " 'will',\n",
       " 'with',\n",
       " 'within',\n",
       " 'zero']"
      ]
     },
     "execution_count": 7,
     "metadata": {},
     "output_type": "execute_result"
    }
   ],
   "source": [
    "vectorizer.get_feature_names()"
   ]
  },
  {
   "cell_type": "code",
   "execution_count": 8,
   "metadata": {},
   "outputs": [],
   "source": [
    "# look at\n",
    "## 'transmission',\n",
    "## 'transmissions\n",
    "## 'transmit'"
   ]
  },
  {
   "cell_type": "code",
   "execution_count": 9,
   "metadata": {},
   "outputs": [],
   "source": [
    "# lemmatized words\n",
    "from nltk.stem.porter import PorterStemmer\n",
    "stemmer = PorterStemmer()\n",
    "\n",
    "# lemmatized words\n",
    "from nltk.stem import WordNetLemmatizer\n",
    "lemmatizer = WordNetLemmatizer()"
   ]
  },
  {
   "cell_type": "code",
   "execution_count": 10,
   "metadata": {},
   "outputs": [
    {
     "name": "stdout",
     "output_type": "stream",
     "text": [
      "transmiss\n",
      "transmiss\n",
      "transmit\n"
     ]
    }
   ],
   "source": [
    "print(stemmer.stem(\"transmission\"))\n",
    "print(stemmer.stem(\"transmissions\"))\n",
    "print(stemmer.stem(\"transmit\"))"
   ]
  },
  {
   "cell_type": "code",
   "execution_count": 11,
   "metadata": {},
   "outputs": [
    {
     "name": "stdout",
     "output_type": "stream",
     "text": [
      "transmission\n",
      "transmission\n",
      "transmit\n"
     ]
    }
   ],
   "source": [
    "print(lemmatizer.lemmatize(\"transmission\"))\n",
    "print(lemmatizer.lemmatize(\"transmissions\"))\n",
    "print(lemmatizer.lemmatize(\"transmit\"))"
   ]
  },
  {
   "cell_type": "code",
   "execution_count": 12,
   "metadata": {},
   "outputs": [],
   "source": [
    "lemma_text =  ' '.join(lemmatizer.lemmatize(w) for w in document_text.split())"
   ]
  },
  {
   "cell_type": "code",
   "execution_count": 13,
   "metadata": {},
   "outputs": [
    {
     "data": {
      "text/plain": [
       "'In economics, inflation (or le frequently, price inflation) is a general rise in the price level of an economy over a period of time.[1][2][3][4] When the general price level rises, each unit of currency buy fewer good and services; consequently, inflation reflects a reduction in the purchasing power per unit of money – a loss of real value in the medium of exchange and unit of account within the economy.[5][6] The opposite of inflation is deflation, a sustained decrease in the general price level of good and services. The common measure of inflation is the inflation rate, the annualised percentage change in a general price index, usually the consumer price index, over time.[7] Economists believe that very high rate of inflation and hyperinflation are harmful, and are caused by excessive growth of the money supply.[8] Views on which factor determine low to moderate rate of inflation are more varied. Low or moderate inflation may be attributed to fluctuation in real demand for good and services, or change in available supply such a during scarcities.[9] However, the consensus view is that a long sustained period of inflation is caused by money supply growing faster than the rate of economic growth.[10][11] Inflation affect economy in various positive and negative ways. The negative effect of inflation include an increase in the opportunity cost of holding money, uncertainty over future inflation which may discourage investment and savings, and if inflation were rapid enough, shortage of good a consumer begin hoarding out of concern that price will increase in the future. Positive effect include reducing unemployment due to nominal wage rigidity,[12] allowing the central bank greater freedom in carrying out monetary policy, encouraging loan and investment instead of money hoarding, and avoiding the inefficiency associated with deflation. Today, most economist favour a low and steady rate of inflation.[13] Low (as opposed to zero or negative) inflation reduces the severity of economic recession by enabling the labor market to adjust more quickly in a downturn, and reduces the risk that a liquidity trap prevents monetary policy from stabilising the economy.[14] The task of keeping the rate of inflation low and stable is usually given to monetary authorities. Generally, these monetary authority are the central bank that control monetary policy through the setting of interest rates, through open market operations, and through the setting of banking reserve requirements.[15]'"
      ]
     },
     "execution_count": 13,
     "metadata": {},
     "output_type": "execute_result"
    }
   ],
   "source": [
    "lemma_text"
   ]
  },
  {
   "cell_type": "code",
   "execution_count": 14,
   "metadata": {},
   "outputs": [],
   "source": [
    "stem_text =  ' '.join(stemmer.stem(w) for w in document_text.split())"
   ]
  },
  {
   "cell_type": "code",
   "execution_count": 15,
   "metadata": {},
   "outputs": [
    {
     "data": {
      "text/plain": [
       "'In economics, inflat (or less frequently, price inflation) is a gener rise in the price level of an economi over a period of time.[1][2][3][4] when the gener price level rises, each unit of currenc buy fewer good and services; consequently, inflat reflect a reduct in the purchas power per unit of money – a loss of real valu in the medium of exchang and unit of account within the economy.[5][6] the opposit of inflat is deflation, a sustain decreas in the gener price level of good and services. the common measur of inflat is the inflat rate, the annualis percentag chang in a gener price index, usual the consum price index, over time.[7] economist believ that veri high rate of inflat and hyperinfl are harmful, and are caus by excess growth of the money supply.[8] view on which factor determin low to moder rate of inflat are more varied. low or moder inflat may be attribut to fluctuat in real demand for good and services, or chang in avail suppli such as dure scarcities.[9] however, the consensu view is that a long sustain period of inflat is caus by money suppli grow faster than the rate of econom growth.[10][11] inflat affect economi in variou posit and neg ways. the neg effect of inflat includ an increas in the opportun cost of hold money, uncertainti over futur inflat which may discourag invest and savings, and if inflat were rapid enough, shortag of good as consum begin hoard out of concern that price will increas in the future. posit effect includ reduc unemploy due to nomin wage rigidity,[12] allow the central bank greater freedom in carri out monetari policy, encourag loan and invest instead of money hoarding, and avoid the ineffici associ with deflation. today, most economist favour a low and steadi rate of inflation.[13] low (a oppos to zero or negative) inflat reduc the sever of econom recess by enabl the labor market to adjust more quickli in a downturn, and reduc the risk that a liquid trap prevent monetari polici from stabilis the economy.[14] the task of keep the rate of inflat low and stabl is usual given to monetari authorities. generally, these monetari author are the central bank that control monetari polici through the set of interest rates, through open market operations, and through the set of bank reserv requirements.[15]'"
      ]
     },
     "execution_count": 15,
     "metadata": {},
     "output_type": "execute_result"
    }
   ],
   "source": [
    "stem_text"
   ]
  },
  {
   "cell_type": "code",
   "execution_count": 16,
   "metadata": {},
   "outputs": [
    {
     "data": {
      "text/plain": [
       "['10',\n",
       " '11',\n",
       " '12',\n",
       " '13',\n",
       " '14',\n",
       " '15',\n",
       " 'account',\n",
       " 'adjust',\n",
       " 'affect',\n",
       " 'allow',\n",
       " 'an',\n",
       " 'and',\n",
       " 'annualis',\n",
       " 'are',\n",
       " 'as',\n",
       " 'associ',\n",
       " 'attribut',\n",
       " 'author',\n",
       " 'authorities',\n",
       " 'avail',\n",
       " 'avoid',\n",
       " 'bank',\n",
       " 'be',\n",
       " 'begin',\n",
       " 'believ',\n",
       " 'buy',\n",
       " 'by',\n",
       " 'carri',\n",
       " 'caus',\n",
       " 'central',\n",
       " 'chang',\n",
       " 'common',\n",
       " 'concern',\n",
       " 'consensu',\n",
       " 'consequently',\n",
       " 'consum',\n",
       " 'control',\n",
       " 'cost',\n",
       " 'currenc',\n",
       " 'decreas',\n",
       " 'deflation',\n",
       " 'demand',\n",
       " 'determin',\n",
       " 'discourag',\n",
       " 'downturn',\n",
       " 'due',\n",
       " 'dure',\n",
       " 'each',\n",
       " 'econom',\n",
       " 'economi',\n",
       " 'economics',\n",
       " 'economist',\n",
       " 'economy',\n",
       " 'effect',\n",
       " 'enabl',\n",
       " 'encourag',\n",
       " 'enough',\n",
       " 'excess',\n",
       " 'exchang',\n",
       " 'factor',\n",
       " 'faster',\n",
       " 'favour',\n",
       " 'fewer',\n",
       " 'fluctuat',\n",
       " 'for',\n",
       " 'freedom',\n",
       " 'frequently',\n",
       " 'from',\n",
       " 'futur',\n",
       " 'future',\n",
       " 'gener',\n",
       " 'generally',\n",
       " 'given',\n",
       " 'good',\n",
       " 'greater',\n",
       " 'grow',\n",
       " 'growth',\n",
       " 'harmful',\n",
       " 'high',\n",
       " 'hoard',\n",
       " 'hoarding',\n",
       " 'hold',\n",
       " 'however',\n",
       " 'hyperinfl',\n",
       " 'if',\n",
       " 'in',\n",
       " 'includ',\n",
       " 'increas',\n",
       " 'index',\n",
       " 'ineffici',\n",
       " 'inflat',\n",
       " 'inflation',\n",
       " 'instead',\n",
       " 'interest',\n",
       " 'invest',\n",
       " 'is',\n",
       " 'keep',\n",
       " 'labor',\n",
       " 'less',\n",
       " 'level',\n",
       " 'liquid',\n",
       " 'loan',\n",
       " 'long',\n",
       " 'loss',\n",
       " 'low',\n",
       " 'market',\n",
       " 'may',\n",
       " 'measur',\n",
       " 'medium',\n",
       " 'moder',\n",
       " 'monetari',\n",
       " 'money',\n",
       " 'more',\n",
       " 'most',\n",
       " 'neg',\n",
       " 'negative',\n",
       " 'nomin',\n",
       " 'of',\n",
       " 'on',\n",
       " 'open',\n",
       " 'operations',\n",
       " 'opportun',\n",
       " 'oppos',\n",
       " 'opposit',\n",
       " 'or',\n",
       " 'out',\n",
       " 'over',\n",
       " 'per',\n",
       " 'percentag',\n",
       " 'period',\n",
       " 'polici',\n",
       " 'policy',\n",
       " 'posit',\n",
       " 'power',\n",
       " 'prevent',\n",
       " 'price',\n",
       " 'purchas',\n",
       " 'quickli',\n",
       " 'rapid',\n",
       " 'rate',\n",
       " 'rates',\n",
       " 'real',\n",
       " 'recess',\n",
       " 'reduc',\n",
       " 'reduct',\n",
       " 'reflect',\n",
       " 'requirements',\n",
       " 'reserv',\n",
       " 'rigidity',\n",
       " 'rise',\n",
       " 'rises',\n",
       " 'risk',\n",
       " 'savings',\n",
       " 'scarcities',\n",
       " 'services',\n",
       " 'set',\n",
       " 'sever',\n",
       " 'shortag',\n",
       " 'stabilis',\n",
       " 'stabl',\n",
       " 'steadi',\n",
       " 'such',\n",
       " 'suppli',\n",
       " 'supply',\n",
       " 'sustain',\n",
       " 'task',\n",
       " 'than',\n",
       " 'that',\n",
       " 'the',\n",
       " 'these',\n",
       " 'through',\n",
       " 'time',\n",
       " 'to',\n",
       " 'today',\n",
       " 'trap',\n",
       " 'uncertainti',\n",
       " 'unemploy',\n",
       " 'unit',\n",
       " 'usual',\n",
       " 'valu',\n",
       " 'varied',\n",
       " 'variou',\n",
       " 'veri',\n",
       " 'view',\n",
       " 'wage',\n",
       " 'ways',\n",
       " 'were',\n",
       " 'when',\n",
       " 'which',\n",
       " 'will',\n",
       " 'with',\n",
       " 'within',\n",
       " 'zero']"
      ]
     },
     "execution_count": 16,
     "metadata": {},
     "output_type": "execute_result"
    }
   ],
   "source": [
    "stem_vectorizer = CountVectorizer()\n",
    "stem_vectorizer.fit_transform([stem_text])\n",
    "stem_vectorizer.get_feature_names()"
   ]
  },
  {
   "cell_type": "code",
   "execution_count": 17,
   "metadata": {},
   "outputs": [],
   "source": [
    "# generate for lemmatized as well"
   ]
  },
  {
   "cell_type": "code",
   "execution_count": 19,
   "metadata": {},
   "outputs": [],
   "source": [
    "# only alpha"
   ]
  },
  {
   "cell_type": "code",
   "execution_count": 35,
   "metadata": {},
   "outputs": [],
   "source": [
    "import re\n",
    "regex = re.compile('[^a-zA-Z]')"
   ]
  },
  {
   "cell_type": "code",
   "execution_count": 41,
   "metadata": {},
   "outputs": [],
   "source": [
    "alpha_text = regex.sub(' ', document_text)\n",
    "alpha_text = ' '.join(alpha_text.split())"
   ]
  },
  {
   "cell_type": "code",
   "execution_count": 42,
   "metadata": {},
   "outputs": [
    {
     "data": {
      "text/plain": [
       "'In economics inflation or less frequently price inflation is a general rise in the price level of an economy over a period of time When the general price level rises each unit of currency buys fewer goods and services consequently inflation reflects a reduction in the purchasing power per unit of money a loss of real value in the medium of exchange and unit of account within the economy The opposite of inflation is deflation a sustained decrease in the general price level of goods and services The common measure of inflation is the inflation rate the annualised percentage change in a general price index usually the consumer price index over time Economists believe that very high rates of inflation and hyperinflation are harmful and are caused by excessive growth of the money supply Views on which factors determine low to moderate rates of inflation are more varied Low or moderate inflation may be attributed to fluctuations in real demand for goods and services or changes in available supplies such as during scarcities However the consensus view is that a long sustained period of inflation is caused by money supply growing faster than the rate of economic growth Inflation affects economies in various positive and negative ways The negative effects of inflation include an increase in the opportunity cost of holding money uncertainty over future inflation which may discourage investment and savings and if inflation were rapid enough shortages of goods as consumers begin hoarding out of concern that prices will increase in the future Positive effects include reducing unemployment due to nominal wage rigidity allowing the central bank greater freedom in carrying out monetary policy encouraging loans and investment instead of money hoarding and avoiding the inefficiencies associated with deflation Today most economists favour a low and steady rate of inflation Low as opposed to zero or negative inflation reduces the severity of economic recessions by enabling the labor market to adjust more quickly in a downturn and reduces the risk that a liquidity trap prevents monetary policy from stabilising the economy The task of keeping the rate of inflation low and stable is usually given to monetary authorities Generally these monetary authorities are the central banks that control monetary policy through the setting of interest rates through open market operations and through the setting of banking reserve requirements'"
      ]
     },
     "execution_count": 42,
     "metadata": {},
     "output_type": "execute_result"
    }
   ],
   "source": [
    "alpha_text"
   ]
  },
  {
   "cell_type": "code",
   "execution_count": 44,
   "metadata": {},
   "outputs": [],
   "source": [
    "# remove stop words"
   ]
  },
  {
   "cell_type": "code",
   "execution_count": 45,
   "metadata": {},
   "outputs": [],
   "source": [
    "# remove stop words\n",
    "from nltk.corpus import stopwords\n",
    "stop = stopwords.words('english')"
   ]
  },
  {
   "cell_type": "code",
   "execution_count": 54,
   "metadata": {},
   "outputs": [
    {
     "data": {
      "text/plain": [
       "True"
      ]
     },
     "execution_count": 54,
     "metadata": {},
     "output_type": "execute_result"
    }
   ],
   "source": [
    "'or' in stop"
   ]
  },
  {
   "cell_type": "code",
   "execution_count": 59,
   "metadata": {},
   "outputs": [],
   "source": [
    "nostop_text = ' '.join(word.lower() for word in alpha_text.lower().split() if word not in stop)"
   ]
  },
  {
   "cell_type": "code",
   "execution_count": 60,
   "metadata": {},
   "outputs": [
    {
     "name": "stdout",
     "output_type": "stream",
     "text": [
      "economics inflation less frequently price inflation general rise price level economy period time general price level rises unit currency buys fewer goods services consequently inflation reflects reduction purchasing power per unit money loss real value medium exchange unit account within economy opposite inflation deflation sustained decrease general price level goods services common measure inflation inflation rate annualised percentage change general price index usually consumer price index time economists believe high rates inflation hyperinflation harmful caused excessive growth money supply views factors determine low moderate rates inflation varied low moderate inflation may attributed fluctuations real demand goods services changes available supplies scarcities however consensus view long sustained period inflation caused money supply growing faster rate economic growth inflation affects economies various positive negative ways negative effects inflation include increase opportunity cost holding money uncertainty future inflation may discourage investment savings inflation rapid enough shortages goods consumers begin hoarding concern prices increase future positive effects include reducing unemployment due nominal wage rigidity allowing central bank greater freedom carrying monetary policy encouraging loans investment instead money hoarding avoiding inefficiencies associated deflation today economists favour low steady rate inflation low opposed zero negative inflation reduces severity economic recessions enabling labor market adjust quickly downturn reduces risk liquidity trap prevents monetary policy stabilising economy task keeping rate inflation low stable usually given monetary authorities generally monetary authorities central banks control monetary policy setting interest rates open market operations setting banking reserve requirements\n"
     ]
    }
   ],
   "source": [
    "print(nostop_text)"
   ]
  },
  {
   "cell_type": "code",
   "execution_count": 61,
   "metadata": {},
   "outputs": [],
   "source": [
    "# what happens if you use the original document_text. does it catch all the stop words?"
   ]
  },
  {
   "cell_type": "code",
   "execution_count": 62,
   "metadata": {},
   "outputs": [],
   "source": [
    "# generate a stemmed, alpha, no stop word list"
   ]
  },
  {
   "cell_type": "code",
   "execution_count": 63,
   "metadata": {},
   "outputs": [],
   "source": [
    "stem_text =  ' '.join(stemmer.stem(w) for w in nostop_text.split())"
   ]
  },
  {
   "cell_type": "code",
   "execution_count": 64,
   "metadata": {},
   "outputs": [
    {
     "data": {
      "text/plain": [
       "'econom inflat less frequent price inflat gener rise price level economi period time gener price level rise unit currenc buy fewer good servic consequ inflat reflect reduct purchas power per unit money loss real valu medium exchang unit account within economi opposit inflat deflat sustain decreas gener price level good servic common measur inflat inflat rate annualis percentag chang gener price index usual consum price index time economist believ high rate inflat hyperinfl harm caus excess growth money suppli view factor determin low moder rate inflat vari low moder inflat may attribut fluctuat real demand good servic chang avail suppli scarciti howev consensu view long sustain period inflat caus money suppli grow faster rate econom growth inflat affect economi variou posit neg way neg effect inflat includ increas opportun cost hold money uncertainti futur inflat may discourag invest save inflat rapid enough shortag good consum begin hoard concern price increas futur posit effect includ reduc unemploy due nomin wage rigid allow central bank greater freedom carri monetari polici encourag loan invest instead money hoard avoid ineffici associ deflat today economist favour low steadi rate inflat low oppos zero neg inflat reduc sever econom recess enabl labor market adjust quickli downturn reduc risk liquid trap prevent monetari polici stabilis economi task keep rate inflat low stabl usual given monetari author gener monetari author central bank control monetari polici set interest rate open market oper set bank reserv requir'"
      ]
     },
     "execution_count": 64,
     "metadata": {},
     "output_type": "execute_result"
    }
   ],
   "source": [
    "stem_text"
   ]
  },
  {
   "cell_type": "code",
   "execution_count": 65,
   "metadata": {},
   "outputs": [],
   "source": [
    "lemma_text = ' '.join(lemmatizer.lemmatize(w) for w in nostop_text.split())"
   ]
  },
  {
   "cell_type": "code",
   "execution_count": 66,
   "metadata": {},
   "outputs": [
    {
     "data": {
      "text/plain": [
       "'economics inflation le frequently price inflation general rise price level economy period time general price level rise unit currency buy fewer good service consequently inflation reflects reduction purchasing power per unit money loss real value medium exchange unit account within economy opposite inflation deflation sustained decrease general price level good service common measure inflation inflation rate annualised percentage change general price index usually consumer price index time economist believe high rate inflation hyperinflation harmful caused excessive growth money supply view factor determine low moderate rate inflation varied low moderate inflation may attributed fluctuation real demand good service change available supply scarcity however consensus view long sustained period inflation caused money supply growing faster rate economic growth inflation affect economy various positive negative way negative effect inflation include increase opportunity cost holding money uncertainty future inflation may discourage investment saving inflation rapid enough shortage good consumer begin hoarding concern price increase future positive effect include reducing unemployment due nominal wage rigidity allowing central bank greater freedom carrying monetary policy encouraging loan investment instead money hoarding avoiding inefficiency associated deflation today economist favour low steady rate inflation low opposed zero negative inflation reduces severity economic recession enabling labor market adjust quickly downturn reduces risk liquidity trap prevents monetary policy stabilising economy task keeping rate inflation low stable usually given monetary authority generally monetary authority central bank control monetary policy setting interest rate open market operation setting banking reserve requirement'"
      ]
     },
     "execution_count": 66,
     "metadata": {},
     "output_type": "execute_result"
    }
   ],
   "source": [
    "lemma_text"
   ]
  },
  {
   "cell_type": "code",
   "execution_count": 67,
   "metadata": {},
   "outputs": [],
   "source": [
    "stem_vectorizer = CountVectorizer()"
   ]
  },
  {
   "cell_type": "code",
   "execution_count": 69,
   "metadata": {},
   "outputs": [
    {
     "data": {
      "text/plain": [
       "['account',\n",
       " 'adjust',\n",
       " 'affect',\n",
       " 'allow',\n",
       " 'annualis',\n",
       " 'associ',\n",
       " 'attribut',\n",
       " 'author',\n",
       " 'avail',\n",
       " 'avoid',\n",
       " 'bank',\n",
       " 'begin',\n",
       " 'believ',\n",
       " 'buy',\n",
       " 'carri',\n",
       " 'caus',\n",
       " 'central',\n",
       " 'chang',\n",
       " 'common',\n",
       " 'concern',\n",
       " 'consensu',\n",
       " 'consequ',\n",
       " 'consum',\n",
       " 'control',\n",
       " 'cost',\n",
       " 'currenc',\n",
       " 'decreas',\n",
       " 'deflat',\n",
       " 'demand',\n",
       " 'determin',\n",
       " 'discourag',\n",
       " 'downturn',\n",
       " 'due',\n",
       " 'econom',\n",
       " 'economi',\n",
       " 'economist',\n",
       " 'effect',\n",
       " 'enabl',\n",
       " 'encourag',\n",
       " 'enough',\n",
       " 'excess',\n",
       " 'exchang',\n",
       " 'factor',\n",
       " 'faster',\n",
       " 'favour',\n",
       " 'fewer',\n",
       " 'fluctuat',\n",
       " 'freedom',\n",
       " 'frequent',\n",
       " 'futur',\n",
       " 'gener',\n",
       " 'given',\n",
       " 'good',\n",
       " 'greater',\n",
       " 'grow',\n",
       " 'growth',\n",
       " 'harm',\n",
       " 'high',\n",
       " 'hoard',\n",
       " 'hold',\n",
       " 'howev',\n",
       " 'hyperinfl',\n",
       " 'includ',\n",
       " 'increas',\n",
       " 'index',\n",
       " 'ineffici',\n",
       " 'inflat',\n",
       " 'instead',\n",
       " 'interest',\n",
       " 'invest',\n",
       " 'keep',\n",
       " 'labor',\n",
       " 'less',\n",
       " 'level',\n",
       " 'liquid',\n",
       " 'loan',\n",
       " 'long',\n",
       " 'loss',\n",
       " 'low',\n",
       " 'market',\n",
       " 'may',\n",
       " 'measur',\n",
       " 'medium',\n",
       " 'moder',\n",
       " 'monetari',\n",
       " 'money',\n",
       " 'neg',\n",
       " 'nomin',\n",
       " 'open',\n",
       " 'oper',\n",
       " 'opportun',\n",
       " 'oppos',\n",
       " 'opposit',\n",
       " 'per',\n",
       " 'percentag',\n",
       " 'period',\n",
       " 'polici',\n",
       " 'posit',\n",
       " 'power',\n",
       " 'prevent',\n",
       " 'price',\n",
       " 'purchas',\n",
       " 'quickli',\n",
       " 'rapid',\n",
       " 'rate',\n",
       " 'real',\n",
       " 'recess',\n",
       " 'reduc',\n",
       " 'reduct',\n",
       " 'reflect',\n",
       " 'requir',\n",
       " 'reserv',\n",
       " 'rigid',\n",
       " 'rise',\n",
       " 'risk',\n",
       " 'save',\n",
       " 'scarciti',\n",
       " 'servic',\n",
       " 'set',\n",
       " 'sever',\n",
       " 'shortag',\n",
       " 'stabilis',\n",
       " 'stabl',\n",
       " 'steadi',\n",
       " 'suppli',\n",
       " 'sustain',\n",
       " 'task',\n",
       " 'time',\n",
       " 'today',\n",
       " 'trap',\n",
       " 'uncertainti',\n",
       " 'unemploy',\n",
       " 'unit',\n",
       " 'usual',\n",
       " 'valu',\n",
       " 'vari',\n",
       " 'variou',\n",
       " 'view',\n",
       " 'wage',\n",
       " 'way',\n",
       " 'within',\n",
       " 'zero']"
      ]
     },
     "execution_count": 69,
     "metadata": {},
     "output_type": "execute_result"
    }
   ],
   "source": [
    "stem_vectorizer = CountVectorizer()\n",
    "stem_vectorizer.fit_transform([stem_text])\n",
    "stem_vectorizer.get_feature_names()"
   ]
  },
  {
   "cell_type": "code",
   "execution_count": null,
   "metadata": {},
   "outputs": [],
   "source": []
  }
 ],
 "metadata": {
  "kernelspec": {
   "display_name": "Python 3",
   "language": "python",
   "name": "python3"
  },
  "language_info": {
   "codemirror_mode": {
    "name": "ipython",
    "version": 3
   },
   "file_extension": ".py",
   "mimetype": "text/x-python",
   "name": "python",
   "nbconvert_exporter": "python",
   "pygments_lexer": "ipython3",
   "version": "3.6.8"
  }
 },
 "nbformat": 4,
 "nbformat_minor": 2
}
