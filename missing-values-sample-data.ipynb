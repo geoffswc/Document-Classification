{
 "cells": [
  {
   "cell_type": "code",
   "execution_count": 3,
   "metadata": {},
   "outputs": [],
   "source": [
    "import pandas as pd"
   ]
  },
  {
   "cell_type": "code",
   "execution_count": 8,
   "metadata": {},
   "outputs": [],
   "source": [
    "headers = ['R', 'temperature', 'cough_severity', 'difficult_breathing', 'exposure_risk', 'days_since_onset']"
   ]
  },
  {
   "cell_type": "code",
   "execution_count": 26,
   "metadata": {},
   "outputs": [],
   "source": [
    "rows = [\n",
    "    (1, 101.2, 3, None, 1, 15), \n",
    "    (1, None, 1, 0, 1, 7), \n",
    "    (0, 98.5, 1, 0, 1, 0), \n",
    "    (1, 99.0, 1, 0, 1, None), \n",
    "    (0, 98.5, None, 0, 0, 21), \n",
    "    (1, 99.0, 1, 0, 1, 10), \n",
    "    (0, None, 1, 0, 1, 5), \n",
    "    (0, 98.2, 2, 1, None, 4)]"
   ]
  },
  {
   "cell_type": "code",
   "execution_count": 27,
   "metadata": {},
   "outputs": [],
   "source": [
    "df = pd.DataFrame(rows, columns=headers)"
   ]
  },
  {
   "cell_type": "code",
   "execution_count": 28,
   "metadata": {},
   "outputs": [
    {
     "data": {
      "text/html": [
       "<div>\n",
       "<style scoped>\n",
       "    .dataframe tbody tr th:only-of-type {\n",
       "        vertical-align: middle;\n",
       "    }\n",
       "\n",
       "    .dataframe tbody tr th {\n",
       "        vertical-align: top;\n",
       "    }\n",
       "\n",
       "    .dataframe thead th {\n",
       "        text-align: right;\n",
       "    }\n",
       "</style>\n",
       "<table border=\"1\" class=\"dataframe\">\n",
       "  <thead>\n",
       "    <tr style=\"text-align: right;\">\n",
       "      <th></th>\n",
       "      <th>R</th>\n",
       "      <th>temperature</th>\n",
       "      <th>cough_severity</th>\n",
       "      <th>difficult_breathing</th>\n",
       "      <th>exposure_risk</th>\n",
       "      <th>days_since_onset</th>\n",
       "    </tr>\n",
       "  </thead>\n",
       "  <tbody>\n",
       "    <tr>\n",
       "      <th>0</th>\n",
       "      <td>1</td>\n",
       "      <td>101.2</td>\n",
       "      <td>3.0</td>\n",
       "      <td>NaN</td>\n",
       "      <td>1.0</td>\n",
       "      <td>15.0</td>\n",
       "    </tr>\n",
       "    <tr>\n",
       "      <th>1</th>\n",
       "      <td>1</td>\n",
       "      <td>NaN</td>\n",
       "      <td>1.0</td>\n",
       "      <td>0.0</td>\n",
       "      <td>1.0</td>\n",
       "      <td>7.0</td>\n",
       "    </tr>\n",
       "    <tr>\n",
       "      <th>2</th>\n",
       "      <td>0</td>\n",
       "      <td>98.5</td>\n",
       "      <td>1.0</td>\n",
       "      <td>0.0</td>\n",
       "      <td>1.0</td>\n",
       "      <td>0.0</td>\n",
       "    </tr>\n",
       "    <tr>\n",
       "      <th>3</th>\n",
       "      <td>1</td>\n",
       "      <td>99.0</td>\n",
       "      <td>1.0</td>\n",
       "      <td>0.0</td>\n",
       "      <td>1.0</td>\n",
       "      <td>NaN</td>\n",
       "    </tr>\n",
       "    <tr>\n",
       "      <th>4</th>\n",
       "      <td>0</td>\n",
       "      <td>98.5</td>\n",
       "      <td>NaN</td>\n",
       "      <td>0.0</td>\n",
       "      <td>0.0</td>\n",
       "      <td>21.0</td>\n",
       "    </tr>\n",
       "    <tr>\n",
       "      <th>5</th>\n",
       "      <td>1</td>\n",
       "      <td>99.0</td>\n",
       "      <td>1.0</td>\n",
       "      <td>0.0</td>\n",
       "      <td>1.0</td>\n",
       "      <td>10.0</td>\n",
       "    </tr>\n",
       "    <tr>\n",
       "      <th>6</th>\n",
       "      <td>0</td>\n",
       "      <td>NaN</td>\n",
       "      <td>1.0</td>\n",
       "      <td>0.0</td>\n",
       "      <td>1.0</td>\n",
       "      <td>5.0</td>\n",
       "    </tr>\n",
       "    <tr>\n",
       "      <th>7</th>\n",
       "      <td>0</td>\n",
       "      <td>98.2</td>\n",
       "      <td>2.0</td>\n",
       "      <td>1.0</td>\n",
       "      <td>NaN</td>\n",
       "      <td>4.0</td>\n",
       "    </tr>\n",
       "  </tbody>\n",
       "</table>\n",
       "</div>"
      ],
      "text/plain": [
       "   R  temperature  cough_severity  difficult_breathing  exposure_risk  \\\n",
       "0  1        101.2             3.0                  NaN            1.0   \n",
       "1  1          NaN             1.0                  0.0            1.0   \n",
       "2  0         98.5             1.0                  0.0            1.0   \n",
       "3  1         99.0             1.0                  0.0            1.0   \n",
       "4  0         98.5             NaN                  0.0            0.0   \n",
       "5  1         99.0             1.0                  0.0            1.0   \n",
       "6  0          NaN             1.0                  0.0            1.0   \n",
       "7  0         98.2             2.0                  1.0            NaN   \n",
       "\n",
       "   days_since_onset  \n",
       "0              15.0  \n",
       "1               7.0  \n",
       "2               0.0  \n",
       "3               NaN  \n",
       "4              21.0  \n",
       "5              10.0  \n",
       "6               5.0  \n",
       "7               4.0  "
      ]
     },
     "execution_count": 28,
     "metadata": {},
     "output_type": "execute_result"
    }
   ],
   "source": [
    "df"
   ]
  },
  {
   "cell_type": "code",
   "execution_count": 29,
   "metadata": {},
   "outputs": [],
   "source": [
    "#https://scikit-learn.org/stable/modules/impute.html#impute"
   ]
  },
  {
   "cell_type": "code",
   "execution_count": 45,
   "metadata": {},
   "outputs": [
    {
     "name": "stdout",
     "output_type": "stream",
     "text": [
      "[[ 1.         98.64        1.          0.          1.          7.        ]\n",
      " [ 0.         98.5         1.          0.          1.          0.        ]\n",
      " [ 1.         99.          1.          0.          1.          7.83333333]\n",
      " [ 0.         98.5         1.16666667  0.          0.         21.        ]\n",
      " [ 1.         99.          1.          0.          1.         10.        ]\n",
      " [ 0.         98.64        1.          0.          1.          5.        ]\n",
      " [ 0.         98.2         2.          1.          0.83333333  4.        ]]\n"
     ]
    }
   ],
   "source": [
    "from sklearn.impute import SimpleImputer\n",
    "import numpy as np\n",
    "nan = np.nan\n",
    "\n",
    "imp = SimpleImputer(missing_values=np.nan, strategy='mean')\n",
    "\n",
    "imp.fit(df[1:])\n",
    "\n",
    "print(imp.transform(df[1:]))"
   ]
  },
  {
   "cell_type": "code",
   "execution_count": 47,
   "metadata": {},
   "outputs": [
    {
     "name": "stdout",
     "output_type": "stream",
     "text": [
      "[[ 1.  99.   1.   0.   1.   7. ]\n",
      " [ 0.  98.5  1.   0.   1.   0. ]\n",
      " [ 1.  99.   1.   0.   1.   8.5]\n",
      " [ 0.  98.5  1.   0.   0.  21. ]\n",
      " [ 1.  99.   1.   0.   1.  10. ]\n",
      " [ 0.  98.6  1.   0.   1.   5. ]\n",
      " [ 0.  98.2  2.   1.   1.   4. ]]\n"
     ]
    }
   ],
   "source": [
    "from sklearn.impute import KNNImputer\n",
    "\n",
    "imputer = KNNImputer(n_neighbors=2, weights=\"uniform\")\n",
    "print(imputer.fit_transform(df[1:]))"
   ]
  },
  {
   "cell_type": "code",
   "execution_count": null,
   "metadata": {},
   "outputs": [],
   "source": []
  }
 ],
 "metadata": {
  "kernelspec": {
   "display_name": "Python 3",
   "language": "python",
   "name": "python3"
  },
  "language_info": {
   "codemirror_mode": {
    "name": "ipython",
    "version": 3
   },
   "file_extension": ".py",
   "mimetype": "text/x-python",
   "name": "python",
   "nbconvert_exporter": "python",
   "pygments_lexer": "ipython3",
   "version": "3.6.8"
  }
 },
 "nbformat": 4,
 "nbformat_minor": 2
}
