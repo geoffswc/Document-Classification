{
 "cells": [
  {
   "cell_type": "code",
   "execution_count": 5,
   "metadata": {},
   "outputs": [],
   "source": [
    "# lemmatized words\n",
    "from nltk.stem import WordNetLemmatizer\n",
    "lem = WordNetLemmatizer()"
   ]
  },
  {
   "cell_type": "code",
   "execution_count": 6,
   "metadata": {},
   "outputs": [
    {
     "name": "stdout",
     "output_type": "stream",
     "text": [
      "mexican\n",
      "mexican\n",
      "mexico\n",
      "mexico\n",
      "indian\n",
      "indian\n",
      "india\n",
      "india\n",
      "french\n",
      "french\n",
      "france\n",
      "france\n"
     ]
    }
   ],
   "source": [
    "# testing out a few words\n",
    "print(lem.lemmatize(\"mexican\"))\n",
    "print(lem.lemmatize(\"mexicans\"))\n",
    "print(lem.lemmatize(\"mexico\"))\n",
    "print(lem.lemmatize(\"mexicos\"))\n",
    "\n",
    "print(lem.lemmatize(\"indian\"))\n",
    "print(lem.lemmatize(\"indians\"))\n",
    "print(lem.lemmatize(\"india\"))\n",
    "print(lem.lemmatize(\"indias\"))\n",
    "\n",
    "print(lem.lemmatize(\"french\"))\n",
    "print(lem.lemmatize(\"frenchs\"))\n",
    "print(lem.lemmatize(\"france\"))\n",
    "print(lem.lemmatize(\"frances\"))"
   ]
  },
  {
   "cell_type": "code",
   "execution_count": 9,
   "metadata": {},
   "outputs": [
    {
     "ename": "NameError",
     "evalue": "name 'lan' is not defined",
     "output_type": "error",
     "traceback": [
      "\u001b[0;31m---------------------------------------------------------------------------\u001b[0m",
      "\u001b[0;31mNameError\u001b[0m                                 Traceback (most recent call last)",
      "\u001b[0;32m<ipython-input-9-a0785822c486>\u001b[0m in \u001b[0;36m<module>\u001b[0;34m\u001b[0m\n\u001b[1;32m      9\u001b[0m \u001b[0;31m# lemmatizing might be the better way to go?\u001b[0m\u001b[0;34m\u001b[0m\u001b[0;34m\u001b[0m\u001b[0;34m\u001b[0m\u001b[0m\n\u001b[1;32m     10\u001b[0m \u001b[0;34m\u001b[0m\u001b[0m\n\u001b[0;32m---> 11\u001b[0;31m \u001b[0mprint\u001b[0m\u001b[0;34m(\u001b[0m\u001b[0mlan\u001b[0m\u001b[0;34m.\u001b[0m\u001b[0mstem\u001b[0m\u001b[0;34m(\u001b[0m\u001b[0;34m\"irish\"\u001b[0m\u001b[0;34m)\u001b[0m\u001b[0;34m)\u001b[0m\u001b[0;34m\u001b[0m\u001b[0;34m\u001b[0m\u001b[0m\n\u001b[0m\u001b[1;32m     12\u001b[0m \u001b[0mprint\u001b[0m\u001b[0;34m(\u001b[0m\u001b[0mlan\u001b[0m\u001b[0;34m.\u001b[0m\u001b[0mstem\u001b[0m\u001b[0;34m(\u001b[0m\u001b[0;34m\"ireland\"\u001b[0m\u001b[0;34m)\u001b[0m\u001b[0;34m)\u001b[0m\u001b[0;34m\u001b[0m\u001b[0;34m\u001b[0m\u001b[0m\n\u001b[1;32m     13\u001b[0m \u001b[0mprint\u001b[0m\u001b[0;34m(\u001b[0m\u001b[0mlan\u001b[0m\u001b[0;34m.\u001b[0m\u001b[0mstem\u001b[0m\u001b[0;34m(\u001b[0m\u001b[0;34m\"irelands\"\u001b[0m\u001b[0;34m)\u001b[0m\u001b[0;34m)\u001b[0m\u001b[0;34m\u001b[0m\u001b[0;34m\u001b[0m\u001b[0m\n",
      "\u001b[0;31mNameError\u001b[0m: name 'lan' is not defined"
     ]
    }
   ],
   "source": [
    "# https://www.nltk.org/api/nltk.stem.html\n",
    "# using Lancaster\n",
    "# note - they will have non alpha removed so not testing apostrophe\n",
    "\n",
    "# testing out a few stems\n",
    "\n",
    "# a bit inconsistent here\n",
    "# there are other less aggressive stemmers, but \n",
    "# lemmatizing might be the better way to go?\n",
    "\n",
    "print(lan.stem(\"irish\"))\n",
    "print(lan.stem(\"ireland\"))\n",
    "print(lan.stem(\"irelands\"))\n",
    "print(lan.stem(\"ireland's\"))\n",
    "\n",
    "print(lan.stem(\"mexican\"))\n",
    "print(lan.stem(\"mexicans\"))\n",
    "print(lan.stem(\"mexico\"))\n",
    "print(lan.stem(\"mexicos\"))\n",
    "\n",
    "print(lan.stem(\"indian\"))\n",
    "print(lan.stem(\"indians\"))\n",
    "print(lan.stem(\"india\"))\n",
    "print(lan.stem(\"indias\"))\n",
    "\n",
    "print(lan.stem(\"french\"))\n",
    "print(lan.stem(\"frenchs\"))\n",
    "print(lan.stem(\"france\"))\n",
    "print(lan.stem(\"frances\"))\n",
    "\n",
    "# some ideas:\n",
    "#https://stackoverflow.com/questions/42027252/smart-stemming-lemmatizing-in-python-for-nationalities"
   ]
  },
  {
   "cell_type": "code",
   "execution_count": null,
   "metadata": {},
   "outputs": [],
   "source": [
    "df['stemmed_abstract'] = df['no_stop'].apply(\n",
    "    lambda words: ' '.join(lan.stem(w) for w in words.split()))"
   ]
  },
  {
   "cell_type": "code",
   "execution_count": null,
   "metadata": {},
   "outputs": [],
   "source": [
    "df['stemmed_abstract']"
   ]
  },
  {
   "cell_type": "code",
   "execution_count": null,
   "metadata": {},
   "outputs": [],
   "source": [
    "pd.set_option('display.max_colwidth', 100)"
   ]
  },
  {
   "cell_type": "code",
   "execution_count": null,
   "metadata": {
    "scrolled": false
   },
   "outputs": [],
   "source": [
    "df.head()"
   ]
  },
  {
   "cell_type": "code",
   "execution_count": null,
   "metadata": {},
   "outputs": [],
   "source": [
    "pd.set_option('display.max_colwidth', None)"
   ]
  },
  {
   "cell_type": "code",
   "execution_count": null,
   "metadata": {},
   "outputs": [],
   "source": [
    "pysqldf(\"\"\"\n",
    "    SELECT Abstract, lemmatized_abstract, stemmed_abstract \n",
    "    FROM df \n",
    "    WHERE Abstract LIKE '% MEXICO %' OR Abstract LIKE '% MEXICAN %'\n",
    "\"\"\")"
   ]
  },
  {
   "cell_type": "code",
   "execution_count": null,
   "metadata": {},
   "outputs": [],
   "source": [
    "pysqldf(\"\"\"\n",
    "    SELECT Abstract, lemmatized_abstract, stemmed_abstract \n",
    "    FROM df \n",
    "    WHERE stemmed_abstract LIKE '% MEXICO %' OR Abstract LIKE '% MEXICAN %'\n",
    "\"\"\")"
   ]
  },
  {
   "cell_type": "code",
   "execution_count": null,
   "metadata": {},
   "outputs": [],
   "source": [
    "pysqldf(\"\"\"\n",
    "    SELECT Abstract, lemmatized_abstract, stemmed_abstract \n",
    "    FROM df \n",
    "    WHERE lemmatized_abstract LIKE '% MEXICO %' OR Abstract LIKE '% MEXICAN %'\n",
    "\"\"\")"
   ]
  },
  {
   "cell_type": "code",
   "execution_count": null,
   "metadata": {},
   "outputs": [],
   "source": []
  }
 ],
 "metadata": {
  "kernelspec": {
   "display_name": "Python 3",
   "language": "python",
   "name": "python3"
  },
  "language_info": {
   "codemirror_mode": {
    "name": "ipython",
    "version": 3
   },
   "file_extension": ".py",
   "mimetype": "text/x-python",
   "name": "python",
   "nbconvert_exporter": "python",
   "pygments_lexer": "ipython3",
   "version": "3.6.8"
  }
 },
 "nbformat": 4,
 "nbformat_minor": 2
}
