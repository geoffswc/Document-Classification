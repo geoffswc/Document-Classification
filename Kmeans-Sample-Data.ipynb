{
 "cells": [
  {
   "cell_type": "code",
   "execution_count": 18,
   "id": "0ffba7db",
   "metadata": {},
   "outputs": [],
   "source": [
    "import pandas as pd\n",
    "from sklearn.feature_extraction.text import TfidfVectorizer\n",
    "from sklearn.cluster import KMeans"
   ]
  },
  {
   "cell_type": "code",
   "execution_count": 19,
   "id": "4a591ca4",
   "metadata": {},
   "outputs": [],
   "source": [
    "reviews = ['excellent film, excellent acting, well written screenplay, coherent plot',\n",
    "    'mediocre film, unconvincing acting, stilted dialog, incoherent plot']"
   ]
  },
  {
   "cell_type": "code",
   "execution_count": 20,
   "id": "93475c49",
   "metadata": {},
   "outputs": [],
   "source": [
    "tfv = TfidfVectorizer(ngram_range = (1,1))"
   ]
  },
  {
   "cell_type": "code",
   "execution_count": 21,
   "id": "2667b1cb",
   "metadata": {},
   "outputs": [],
   "source": [
    "vec_text = tfv.fit_transform(reviews)"
   ]
  },
  {
   "cell_type": "code",
   "execution_count": 22,
   "id": "84fef542",
   "metadata": {},
   "outputs": [],
   "source": [
    "words = tfv.get_feature_names()"
   ]
  },
  {
   "cell_type": "code",
   "execution_count": 23,
   "id": "5c392514",
   "metadata": {},
   "outputs": [
    {
     "data": {
      "text/plain": [
       "['acting',\n",
       " 'coherent',\n",
       " 'dialog',\n",
       " 'excellent',\n",
       " 'film',\n",
       " 'incoherent',\n",
       " 'mediocre',\n",
       " 'plot',\n",
       " 'screenplay',\n",
       " 'stilted',\n",
       " 'unconvincing',\n",
       " 'well',\n",
       " 'written']"
      ]
     },
     "execution_count": 23,
     "metadata": {},
     "output_type": "execute_result"
    }
   ],
   "source": [
    "words"
   ]
  },
  {
   "cell_type": "code",
   "execution_count": 24,
   "id": "26fd9ca0",
   "metadata": {},
   "outputs": [],
   "source": [
    "vec_text = tfv.fit_transform(reviews)"
   ]
  },
  {
   "cell_type": "code",
   "execution_count": 34,
   "id": "d19560ab",
   "metadata": {},
   "outputs": [
    {
     "data": {
      "text/plain": [
       "matrix([[0.2306165 , 0.32412345, 0.        , 0.6482469 , 0.2306165 ,\n",
       "         0.        , 0.        , 0.2306165 , 0.32412345, 0.        ,\n",
       "         0.        , 0.32412345, 0.32412345]])"
      ]
     },
     "execution_count": 34,
     "metadata": {},
     "output_type": "execute_result"
    }
   ],
   "source": [
    "vec_text.todense()[0][0]"
   ]
  },
  {
   "cell_type": "code",
   "execution_count": 37,
   "id": "4e0f6b30",
   "metadata": {},
   "outputs": [],
   "source": [
    "df = pd.DataFrame({'word': words})"
   ]
  },
  {
   "cell_type": "code",
   "execution_count": 27,
   "id": "c720953e",
   "metadata": {},
   "outputs": [
    {
     "data": {
      "text/html": [
       "<div>\n",
       "<style scoped>\n",
       "    .dataframe tbody tr th:only-of-type {\n",
       "        vertical-align: middle;\n",
       "    }\n",
       "\n",
       "    .dataframe tbody tr th {\n",
       "        vertical-align: top;\n",
       "    }\n",
       "\n",
       "    .dataframe thead th {\n",
       "        text-align: right;\n",
       "    }\n",
       "</style>\n",
       "<table border=\"1\" class=\"dataframe\">\n",
       "  <thead>\n",
       "    <tr style=\"text-align: right;\">\n",
       "      <th></th>\n",
       "      <th>word</th>\n",
       "    </tr>\n",
       "  </thead>\n",
       "  <tbody>\n",
       "    <tr>\n",
       "      <th>0</th>\n",
       "      <td>acting</td>\n",
       "    </tr>\n",
       "    <tr>\n",
       "      <th>1</th>\n",
       "      <td>coherent</td>\n",
       "    </tr>\n",
       "    <tr>\n",
       "      <th>2</th>\n",
       "      <td>dialog</td>\n",
       "    </tr>\n",
       "    <tr>\n",
       "      <th>3</th>\n",
       "      <td>excellent</td>\n",
       "    </tr>\n",
       "    <tr>\n",
       "      <th>4</th>\n",
       "      <td>film</td>\n",
       "    </tr>\n",
       "    <tr>\n",
       "      <th>5</th>\n",
       "      <td>incoherent</td>\n",
       "    </tr>\n",
       "    <tr>\n",
       "      <th>6</th>\n",
       "      <td>mediocre</td>\n",
       "    </tr>\n",
       "    <tr>\n",
       "      <th>7</th>\n",
       "      <td>plot</td>\n",
       "    </tr>\n",
       "    <tr>\n",
       "      <th>8</th>\n",
       "      <td>screenplay</td>\n",
       "    </tr>\n",
       "    <tr>\n",
       "      <th>9</th>\n",
       "      <td>stilted</td>\n",
       "    </tr>\n",
       "    <tr>\n",
       "      <th>10</th>\n",
       "      <td>unconvincing</td>\n",
       "    </tr>\n",
       "    <tr>\n",
       "      <th>11</th>\n",
       "      <td>well</td>\n",
       "    </tr>\n",
       "    <tr>\n",
       "      <th>12</th>\n",
       "      <td>written</td>\n",
       "    </tr>\n",
       "  </tbody>\n",
       "</table>\n",
       "</div>"
      ],
      "text/plain": [
       "            word\n",
       "0         acting\n",
       "1       coherent\n",
       "2         dialog\n",
       "3      excellent\n",
       "4           film\n",
       "5     incoherent\n",
       "6       mediocre\n",
       "7           plot\n",
       "8     screenplay\n",
       "9        stilted\n",
       "10  unconvincing\n",
       "11          well\n",
       "12       written"
      ]
     },
     "execution_count": 27,
     "metadata": {},
     "output_type": "execute_result"
    }
   ],
   "source": [
    "df"
   ]
  },
  {
   "cell_type": "code",
   "execution_count": 9,
   "id": "eafac006",
   "metadata": {},
   "outputs": [],
   "source": [
    "kmeans = KMeans(n_clusters = 2)\n",
    "kmeans.fit(vec_text)\n",
    "cluster_words = kmeans.cluster_centers_\n",
    "df_cluster_words = pd.DataFrame(cluster_words, columns=words).T"
   ]
  },
  {
   "cell_type": "code",
   "execution_count": 10,
   "id": "57c6732e",
   "metadata": {},
   "outputs": [
    {
     "name": "stdout",
     "output_type": "stream",
     "text": [
      "Document 0\n",
      "dialog          0.391668\n",
      "incoherent      0.391668\n",
      "mediocre        0.391668\n",
      "stilted         0.391668\n",
      "unconvincing    0.391668\n",
      "acting          0.278675\n",
      "film            0.278675\n",
      "plot            0.278675\n",
      "coherent        0.000000\n",
      "excellent       0.000000\n",
      "Name: 0, dtype: float64\n",
      "\n",
      "\n",
      "Document 1\n",
      "excellent     0.648247\n",
      "coherent      0.324123\n",
      "screenplay    0.324123\n",
      "well          0.324123\n",
      "written       0.324123\n",
      "acting        0.230617\n",
      "film          0.230617\n",
      "plot          0.230617\n",
      "dialog        0.000000\n",
      "incoherent    0.000000\n",
      "Name: 1, dtype: float64\n",
      "\n",
      "\n"
     ]
    }
   ],
   "source": [
    "for i in range(0, 2):\n",
    "    print('Document', i)\n",
    "    print(df_cluster_words.sort_values(i, ascending=False)[i].head(10))\n",
    "    print('\\n')"
   ]
  },
  {
   "cell_type": "code",
   "execution_count": 11,
   "id": "83d3414c",
   "metadata": {},
   "outputs": [
    {
     "data": {
      "text/plain": [
       "array([1, 0], dtype=int32)"
      ]
     },
     "execution_count": 11,
     "metadata": {},
     "output_type": "execute_result"
    }
   ],
   "source": [
    "# make a prediction\n",
    "vec_text = ['excellent film, excellent acting, well written screenplay, coherent plot',\n",
    "    'mediocre film, unconvincing acting, stilted dialog, incoherent plot'] \n",
    "\n",
    "kmeans.predict(tfv.transform(vec_text))"
   ]
  },
  {
   "cell_type": "code",
   "execution_count": null,
   "id": "e06e8a59",
   "metadata": {},
   "outputs": [],
   "source": []
  }
 ],
 "metadata": {
  "kernelspec": {
   "display_name": "Python 3 (ipykernel)",
   "language": "python",
   "name": "python3"
  },
  "language_info": {
   "codemirror_mode": {
    "name": "ipython",
    "version": 3
   },
   "file_extension": ".py",
   "mimetype": "text/x-python",
   "name": "python",
   "nbconvert_exporter": "python",
   "pygments_lexer": "ipython3",
   "version": "3.9.7"
  }
 },
 "nbformat": 4,
 "nbformat_minor": 5
}
